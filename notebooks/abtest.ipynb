{
 "cells": [
  {
   "cell_type": "markdown",
   "id": "9b8af5fe-63c9-4114-9c90-105e55f54c0f",
   "metadata": {},
   "source": [
    "<div style=\"background-color:#f0f8ff; padding:10px; border:1px solid #ccc; border-radius:5px;\">\n",
    "\n",
    "# Project Overview\n",
    "\n",
    "\n",
    "This project compares two groups: people who saw an ad and people who saw a PSA.  \n",
    "It uses two methods: Frequentist (t-test) and Bayesian (Beta distribution).  \n",
    "The goal is to find out which group had more conversions (purchases).  \n",
    "The data is also explored by user type, day, and time.  \n",
    "\n",
    "\n",
    "</div>"
   ]
  },
  {
   "cell_type": "code",
   "execution_count": 1,
   "id": "f1c62c22-93c3-41f9-8a5c-9dd30e89788d",
   "metadata": {},
   "outputs": [],
   "source": [
    "import pandas as pd"
   ]
  },
  {
   "cell_type": "code",
   "execution_count": 2,
   "id": "5fd1b133-68d5-4d3f-95e7-a06074c88bc1",
   "metadata": {},
   "outputs": [],
   "source": [
    "df = pd.read_csv(\"../data/marketing_AB.csv\")"
   ]
  },
  {
   "cell_type": "markdown",
   "id": "f15962e6-5517-4ec4-8979-56244cb8cd38",
   "metadata": {},
   "source": [
    "<div style=\"background-color:#f0f8ff; padding:10px; border:1px solid #ccc; border-radius:5px;\">\n",
    "\n",
    "# EDA\n",
    "\n",
    "   - Basic statistics\n",
    "   - Conversion rate\n",
    "   - Conversion rate by user segment (light/medium/heavy)\n",
    "   - Conversion rate by weekday vs weekend\n",
    "   - Conversion rate by time of day\n",
    "\n",
    "</div>"
   ]
  },
  {
   "cell_type": "markdown",
   "id": "0fa4983d-9e9f-41e8-aec3-592c8ca64c67",
   "metadata": {},
   "source": [
    "# Basic statistics"
   ]
  },
  {
   "cell_type": "code",
   "execution_count": 3,
   "id": "3dce99c2-203b-4548-9e73-27ee2d1f9a29",
   "metadata": {},
   "outputs": [],
   "source": [
    "def basic_eda_summary(df):\n",
    "\n",
    "    print(\"=\" * 50)\n",
    "    print(\"BASIC EDA SUMMARY\")\n",
    "    print(\"=\" * 50)\n",
    "\n",
    "    # Shape of the DataFrame\n",
    "    print(\"\\n[1] Shape of the DataFrame:\")\n",
    "    print(f\"Rows: {df.shape[0]}, Columns: {df.shape[1]}\")\n",
    "\n",
    "    # Column names\n",
    "    print(\"\\n[2] Column Names:\")\n",
    "    print(df.columns.tolist())\n",
    "\n",
    "    # Data types and non-null counts\n",
    "    print(\"\\n[3] Data Types and Non-Null Counts:\")\n",
    "    print(df.info(memory_usage=False, verbose=True))\n",
    "\n",
    "    # Missing values per column\n",
    "    print(\"\\n[4] Missing Values (per column):\")\n",
    "    missing = df.isna().sum()\n",
    "    print(missing[missing > 0] if missing.any() else \"No missing values.\")\n",
    "\n",
    "    # Number of unique values per column\n",
    "    print(\"\\n[5] Number of Unique Values per Column:\")\n",
    "    print(df.nunique())\n",
    "\n",
    "    # Basic statistics for numeric columns\n",
    "    print(\"\\n[6] Summary Statistics (numeric columns):\")\n",
    "    print(df.describe())\n",
    "\n",
    "    print(\"\\nBasic EDA summary complete.\")\n",
    "\n",
    "def detect_categorical_candidates(df, threshold_ratio=0.05, max_display_values=5):\n",
    "\n",
    "    print(\"Categorical Feature Candidates\\n\" + \"=\" * 40)\n",
    "\n",
    "    total_rows = len(df)\n",
    "\n",
    "    for col in df.columns:\n",
    "        unique_vals = df[col].nunique(dropna=False)\n",
    "        dtype = df[col].dtype\n",
    "\n",
    "        # Heuristic 1: object or category dtype with low cardinality\n",
    "        if dtype == 'object' or dtype.name == 'category':\n",
    "            print(f\"- {col} [type: {dtype}, {unique_vals} unique] — likely categorical (textual)\")\n",
    "            sample = df[col].dropna().unique()[:max_display_values]\n",
    "            print(f\"  sample values: {sample} ...\\n\")\n",
    "\n",
    "        # Heuristic 2: numeric column with low cardinality\n",
    "        elif unique_vals < total_rows * threshold_ratio:\n",
    "            print(f\"- {col} [type: {dtype}, {unique_vals} unique] — possibly categorical (numeric)\")\n",
    "            sample = df[col].dropna().unique()[:max_display_values]\n",
    "            print(f\"  sample values: {sample} ...\\n\")\n",
    "\n",
    "    print(\"Categorical detection complete.\\n\")\n"
   ]
  },
  {
   "cell_type": "code",
   "execution_count": 4,
   "id": "e3fbf511-c919-413f-9df9-87b388fabe30",
   "metadata": {},
   "outputs": [
    {
     "data": {
      "text/html": [
       "<div>\n",
       "<style scoped>\n",
       "    .dataframe tbody tr th:only-of-type {\n",
       "        vertical-align: middle;\n",
       "    }\n",
       "\n",
       "    .dataframe tbody tr th {\n",
       "        vertical-align: top;\n",
       "    }\n",
       "\n",
       "    .dataframe thead th {\n",
       "        text-align: right;\n",
       "    }\n",
       "</style>\n",
       "<table border=\"1\" class=\"dataframe\">\n",
       "  <thead>\n",
       "    <tr style=\"text-align: right;\">\n",
       "      <th></th>\n",
       "      <th>Unnamed: 0</th>\n",
       "      <th>user id</th>\n",
       "      <th>test group</th>\n",
       "      <th>converted</th>\n",
       "      <th>total ads</th>\n",
       "      <th>most ads day</th>\n",
       "      <th>most ads hour</th>\n",
       "    </tr>\n",
       "  </thead>\n",
       "  <tbody>\n",
       "    <tr>\n",
       "      <th>0</th>\n",
       "      <td>0</td>\n",
       "      <td>1069124</td>\n",
       "      <td>ad</td>\n",
       "      <td>False</td>\n",
       "      <td>130</td>\n",
       "      <td>Monday</td>\n",
       "      <td>20</td>\n",
       "    </tr>\n",
       "    <tr>\n",
       "      <th>1</th>\n",
       "      <td>1</td>\n",
       "      <td>1119715</td>\n",
       "      <td>ad</td>\n",
       "      <td>False</td>\n",
       "      <td>93</td>\n",
       "      <td>Tuesday</td>\n",
       "      <td>22</td>\n",
       "    </tr>\n",
       "    <tr>\n",
       "      <th>2</th>\n",
       "      <td>2</td>\n",
       "      <td>1144181</td>\n",
       "      <td>ad</td>\n",
       "      <td>False</td>\n",
       "      <td>21</td>\n",
       "      <td>Tuesday</td>\n",
       "      <td>18</td>\n",
       "    </tr>\n",
       "    <tr>\n",
       "      <th>3</th>\n",
       "      <td>3</td>\n",
       "      <td>1435133</td>\n",
       "      <td>ad</td>\n",
       "      <td>False</td>\n",
       "      <td>355</td>\n",
       "      <td>Tuesday</td>\n",
       "      <td>10</td>\n",
       "    </tr>\n",
       "    <tr>\n",
       "      <th>4</th>\n",
       "      <td>4</td>\n",
       "      <td>1015700</td>\n",
       "      <td>ad</td>\n",
       "      <td>False</td>\n",
       "      <td>276</td>\n",
       "      <td>Friday</td>\n",
       "      <td>14</td>\n",
       "    </tr>\n",
       "  </tbody>\n",
       "</table>\n",
       "</div>"
      ],
      "text/plain": [
       "   Unnamed: 0  user id test group  converted  total ads most ads day  \\\n",
       "0           0  1069124         ad      False        130       Monday   \n",
       "1           1  1119715         ad      False         93      Tuesday   \n",
       "2           2  1144181         ad      False         21      Tuesday   \n",
       "3           3  1435133         ad      False        355      Tuesday   \n",
       "4           4  1015700         ad      False        276       Friday   \n",
       "\n",
       "   most ads hour  \n",
       "0             20  \n",
       "1             22  \n",
       "2             18  \n",
       "3             10  \n",
       "4             14  "
      ]
     },
     "execution_count": 4,
     "metadata": {},
     "output_type": "execute_result"
    }
   ],
   "source": [
    "df.head()"
   ]
  },
  {
   "cell_type": "code",
   "execution_count": 5,
   "id": "8e1bbdf7-43dc-41ce-9a76-f6fe045eefef",
   "metadata": {},
   "outputs": [
    {
     "data": {
      "text/html": [
       "<div>\n",
       "<style scoped>\n",
       "    .dataframe tbody tr th:only-of-type {\n",
       "        vertical-align: middle;\n",
       "    }\n",
       "\n",
       "    .dataframe tbody tr th {\n",
       "        vertical-align: top;\n",
       "    }\n",
       "\n",
       "    .dataframe thead th {\n",
       "        text-align: right;\n",
       "    }\n",
       "</style>\n",
       "<table border=\"1\" class=\"dataframe\">\n",
       "  <thead>\n",
       "    <tr style=\"text-align: right;\">\n",
       "      <th></th>\n",
       "      <th>Unnamed: 0</th>\n",
       "      <th>user id</th>\n",
       "      <th>test group</th>\n",
       "      <th>converted</th>\n",
       "      <th>total ads</th>\n",
       "      <th>most ads day</th>\n",
       "      <th>most ads hour</th>\n",
       "    </tr>\n",
       "  </thead>\n",
       "  <tbody>\n",
       "    <tr>\n",
       "      <th>18</th>\n",
       "      <td>18</td>\n",
       "      <td>900681</td>\n",
       "      <td>psa</td>\n",
       "      <td>False</td>\n",
       "      <td>248</td>\n",
       "      <td>Saturday</td>\n",
       "      <td>19</td>\n",
       "    </tr>\n",
       "    <tr>\n",
       "      <th>38</th>\n",
       "      <td>38</td>\n",
       "      <td>905704</td>\n",
       "      <td>psa</td>\n",
       "      <td>False</td>\n",
       "      <td>27</td>\n",
       "      <td>Thursday</td>\n",
       "      <td>8</td>\n",
       "    </tr>\n",
       "    <tr>\n",
       "      <th>68</th>\n",
       "      <td>68</td>\n",
       "      <td>904595</td>\n",
       "      <td>psa</td>\n",
       "      <td>False</td>\n",
       "      <td>13</td>\n",
       "      <td>Tuesday</td>\n",
       "      <td>19</td>\n",
       "    </tr>\n",
       "    <tr>\n",
       "      <th>140</th>\n",
       "      <td>140</td>\n",
       "      <td>901904</td>\n",
       "      <td>psa</td>\n",
       "      <td>False</td>\n",
       "      <td>32</td>\n",
       "      <td>Wednesday</td>\n",
       "      <td>19</td>\n",
       "    </tr>\n",
       "    <tr>\n",
       "      <th>157</th>\n",
       "      <td>157</td>\n",
       "      <td>902234</td>\n",
       "      <td>psa</td>\n",
       "      <td>False</td>\n",
       "      <td>105</td>\n",
       "      <td>Tuesday</td>\n",
       "      <td>19</td>\n",
       "    </tr>\n",
       "  </tbody>\n",
       "</table>\n",
       "</div>"
      ],
      "text/plain": [
       "     Unnamed: 0  user id test group  converted  total ads most ads day  \\\n",
       "18           18   900681        psa      False        248     Saturday   \n",
       "38           38   905704        psa      False         27     Thursday   \n",
       "68           68   904595        psa      False         13      Tuesday   \n",
       "140         140   901904        psa      False         32    Wednesday   \n",
       "157         157   902234        psa      False        105      Tuesday   \n",
       "\n",
       "     most ads hour  \n",
       "18              19  \n",
       "38               8  \n",
       "68              19  \n",
       "140             19  \n",
       "157             19  "
      ]
     },
     "execution_count": 5,
     "metadata": {},
     "output_type": "execute_result"
    }
   ],
   "source": [
    "df[df['test group'] != 'ad'].head()"
   ]
  },
  {
   "cell_type": "code",
   "execution_count": 6,
   "id": "3569d0a2-a8e4-4f5a-a231-5791a8e8a48f",
   "metadata": {},
   "outputs": [
    {
     "name": "stdout",
     "output_type": "stream",
     "text": [
      "==================================================\n",
      "BASIC EDA SUMMARY\n",
      "==================================================\n",
      "\n",
      "[1] Shape of the DataFrame:\n",
      "Rows: 588101, Columns: 7\n",
      "\n",
      "[2] Column Names:\n",
      "['Unnamed: 0', 'user id', 'test group', 'converted', 'total ads', 'most ads day', 'most ads hour']\n",
      "\n",
      "[3] Data Types and Non-Null Counts:\n",
      "<class 'pandas.core.frame.DataFrame'>\n",
      "RangeIndex: 588101 entries, 0 to 588100\n",
      "Data columns (total 7 columns):\n",
      " #   Column         Non-Null Count   Dtype \n",
      "---  ------         --------------   ----- \n",
      " 0   Unnamed: 0     588101 non-null  int64 \n",
      " 1   user id        588101 non-null  int64 \n",
      " 2   test group     588101 non-null  object\n",
      " 3   converted      588101 non-null  bool  \n",
      " 4   total ads      588101 non-null  int64 \n",
      " 5   most ads day   588101 non-null  object\n",
      " 6   most ads hour  588101 non-null  int64 \n",
      "dtypes: bool(1), int64(4), object(2)None\n",
      "\n",
      "[4] Missing Values (per column):\n",
      "No missing values.\n",
      "\n",
      "[5] Number of Unique Values per Column:\n",
      "Unnamed: 0       588101\n",
      "user id          588101\n",
      "test group            2\n",
      "converted             2\n",
      "total ads           807\n",
      "most ads day          7\n",
      "most ads hour        24\n",
      "dtype: int64\n",
      "\n",
      "[6] Summary Statistics (numeric columns):\n",
      "          Unnamed: 0       user id      total ads  most ads hour\n",
      "count  588101.000000  5.881010e+05  588101.000000  588101.000000\n",
      "mean   294050.000000  1.310692e+06      24.820876      14.469061\n",
      "std    169770.279668  2.022260e+05      43.715181       4.834634\n",
      "min         0.000000  9.000000e+05       1.000000       0.000000\n",
      "25%    147025.000000  1.143190e+06       4.000000      11.000000\n",
      "50%    294050.000000  1.313725e+06      13.000000      14.000000\n",
      "75%    441075.000000  1.484088e+06      27.000000      18.000000\n",
      "max    588100.000000  1.654483e+06    2065.000000      23.000000\n",
      "\n",
      "Basic EDA summary complete.\n"
     ]
    }
   ],
   "source": [
    "basic_eda_summary(df)"
   ]
  },
  {
   "cell_type": "code",
   "execution_count": 7,
   "id": "3c84c378-6197-4e9b-a418-fd1c29ab2509",
   "metadata": {},
   "outputs": [
    {
     "name": "stdout",
     "output_type": "stream",
     "text": [
      "Categorical Feature Candidates\n",
      "========================================\n",
      "- test group [type: object, 2 unique] — likely categorical (textual)\n",
      "  sample values: ['ad' 'psa'] ...\n",
      "\n",
      "- converted [type: bool, 2 unique] — possibly categorical (numeric)\n",
      "  sample values: [False  True] ...\n",
      "\n",
      "- most ads day [type: object, 7 unique] — likely categorical (textual)\n",
      "  sample values: ['Monday' 'Tuesday' 'Friday' 'Saturday' 'Wednesday'] ...\n",
      "\n",
      "- most ads hour [type: int64, 24 unique] — possibly categorical (numeric)\n",
      "  sample values: [20 22 18 10 14] ...\n",
      "\n",
      "Categorical detection complete.\n",
      "\n"
     ]
    }
   ],
   "source": [
    "detect_categorical_candidates(df,threshold_ratio=0.001)"
   ]
  },
  {
   "cell_type": "markdown",
   "id": "b55ee2cb-792a-4a00-9d10-3ea1ebaf2eb6",
   "metadata": {},
   "source": [
    "# Conversion rate"
   ]
  },
  {
   "cell_type": "code",
   "execution_count": 8,
   "id": "50134ea3-a029-4622-976a-f9782690cd7b",
   "metadata": {},
   "outputs": [],
   "source": [
    "df = df.drop(columns=['Unnamed: 0'])\n",
    "df = df.drop(columns=['user id'])\n",
    "\n",
    "group_ad = df[df['test group'] == 'ad']['converted'].astype(float).dropna()\n",
    "group_psa = df[df['test group'] == 'psa']['converted'].astype(float).dropna()"
   ]
  },
  {
   "cell_type": "code",
   "execution_count": 9,
   "id": "db50c399-0293-4261-8373-1db0e477f51e",
   "metadata": {},
   "outputs": [
    {
     "data": {
      "text/plain": [
       "np.float64(0.02523886203220195)"
      ]
     },
     "execution_count": 9,
     "metadata": {},
     "output_type": "execute_result"
    }
   ],
   "source": [
    "df['converted'].mean()"
   ]
  },
  {
   "cell_type": "code",
   "execution_count": 10,
   "id": "6ce255d3-8028-42a9-8be6-49f7ab4adf14",
   "metadata": {},
   "outputs": [
    {
     "data": {
      "text/plain": [
       "test group\n",
       "ad     0.025547\n",
       "psa    0.017854\n",
       "Name: converted, dtype: float64"
      ]
     },
     "execution_count": 10,
     "metadata": {},
     "output_type": "execute_result"
    }
   ],
   "source": [
    "df.groupby('test group')['converted'].mean()"
   ]
  },
  {
   "cell_type": "code",
   "execution_count": 11,
   "id": "f32c1b67-3b36-4158-bbdb-a6ff46ce8ec0",
   "metadata": {},
   "outputs": [
    {
     "data": {
      "text/plain": [
       "<Axes: xlabel='test group', ylabel='converted'>"
      ]
     },
     "execution_count": 11,
     "metadata": {},
     "output_type": "execute_result"
    },
    {
     "data": {
      "image/png": "[encoded data removed]",
      "text/plain": [
       "<Figure size 640x480 with 1 Axes>"
      ]
     },
     "metadata": {},
     "output_type": "display_data"
    }
   ],
   "source": [
    "import seaborn as sns\n",
    "sns.barplot(data=df, x='test group', y='converted')"
   ]
  },
  {
   "cell_type": "markdown",
   "id": "54b136c7-ead0-4448-b4a5-1be2b72c6713",
   "metadata": {},
   "source": [
    "# Conversion rate by user segment (light/medium/heavy)"
   ]
  },
  {
   "cell_type": "code",
   "execution_count": 12,
   "id": "c17e1822-cc14-4252-b481-62acda32dd6b",
   "metadata": {},
   "outputs": [
    {
     "data": {
      "text/html": [
       "<div>\n",
       "<style scoped>\n",
       "    .dataframe tbody tr th:only-of-type {\n",
       "        vertical-align: middle;\n",
       "    }\n",
       "\n",
       "    .dataframe tbody tr th {\n",
       "        vertical-align: top;\n",
       "    }\n",
       "\n",
       "    .dataframe thead th {\n",
       "        text-align: right;\n",
       "    }\n",
       "</style>\n",
       "<table border=\"1\" class=\"dataframe\">\n",
       "  <thead>\n",
       "    <tr style=\"text-align: right;\">\n",
       "      <th></th>\n",
       "      <th>user_segment</th>\n",
       "      <th>count</th>\n",
       "    </tr>\n",
       "  </thead>\n",
       "  <tbody>\n",
       "    <tr>\n",
       "      <th>0</th>\n",
       "      <td>light</td>\n",
       "      <td>201232</td>\n",
       "    </tr>\n",
       "    <tr>\n",
       "      <th>1</th>\n",
       "      <td>heavy</td>\n",
       "      <td>199842</td>\n",
       "    </tr>\n",
       "    <tr>\n",
       "      <th>2</th>\n",
       "      <td>medium</td>\n",
       "      <td>187027</td>\n",
       "    </tr>\n",
       "  </tbody>\n",
       "</table>\n",
       "</div>"
      ],
      "text/plain": [
       "  user_segment   count\n",
       "0        light  201232\n",
       "1        heavy  199842\n",
       "2       medium  187027"
      ]
     },
     "metadata": {},
     "output_type": "display_data"
    },
    {
     "data": {
      "text/html": [
       "<div>\n",
       "<style scoped>\n",
       "    .dataframe tbody tr th:only-of-type {\n",
       "        vertical-align: middle;\n",
       "    }\n",
       "\n",
       "    .dataframe tbody tr th {\n",
       "        vertical-align: top;\n",
       "    }\n",
       "\n",
       "    .dataframe thead th {\n",
       "        text-align: right;\n",
       "    }\n",
       "</style>\n",
       "<table border=\"1\" class=\"dataframe\">\n",
       "  <thead>\n",
       "    <tr style=\"text-align: right;\">\n",
       "      <th></th>\n",
       "      <th>user_segment</th>\n",
       "      <th>test_group</th>\n",
       "      <th>conversion_rate</th>\n",
       "    </tr>\n",
       "  </thead>\n",
       "  <tbody>\n",
       "    <tr>\n",
       "      <th>0</th>\n",
       "      <td>heavy</td>\n",
       "      <td>ad</td>\n",
       "      <td>0.065577</td>\n",
       "    </tr>\n",
       "    <tr>\n",
       "      <th>1</th>\n",
       "      <td>heavy</td>\n",
       "      <td>psa</td>\n",
       "      <td>0.042109</td>\n",
       "    </tr>\n",
       "    <tr>\n",
       "      <th>2</th>\n",
       "      <td>light</td>\n",
       "      <td>ad</td>\n",
       "      <td>0.002579</td>\n",
       "    </tr>\n",
       "    <tr>\n",
       "      <th>3</th>\n",
       "      <td>light</td>\n",
       "      <td>psa</td>\n",
       "      <td>0.003033</td>\n",
       "    </tr>\n",
       "    <tr>\n",
       "      <th>4</th>\n",
       "      <td>medium</td>\n",
       "      <td>ad</td>\n",
       "      <td>0.007496</td>\n",
       "    </tr>\n",
       "    <tr>\n",
       "      <th>5</th>\n",
       "      <td>medium</td>\n",
       "      <td>psa</td>\n",
       "      <td>0.007972</td>\n",
       "    </tr>\n",
       "  </tbody>\n",
       "</table>\n",
       "</div>"
      ],
      "text/plain": [
       "  user_segment test_group  conversion_rate\n",
       "0        heavy         ad         0.065577\n",
       "1        heavy        psa         0.042109\n",
       "2        light         ad         0.002579\n",
       "3        light        psa         0.003033\n",
       "4       medium         ad         0.007496\n",
       "5       medium        psa         0.007972"
      ]
     },
     "metadata": {},
     "output_type": "display_data"
    }
   ],
   "source": [
    "q33 = df['total ads'].quantile(0.33)\n",
    "q66 = df['total ads'].quantile(0.66)\n",
    "\n",
    "def make_classify_ads(x):\n",
    "    if x <= q33:\n",
    "        return 'light'\n",
    "    elif x <= q66:\n",
    "        return 'medium'\n",
    "    else:\n",
    "        return 'heavy'\n",
    "\n",
    "df['user_segment'] = df['total ads'].apply(make_classify_ads)\n",
    "\n",
    "segment_counts_df = df['user_segment'].value_counts().reset_index()\n",
    "segment_counts_df.columns = ['user_segment', 'count']\n",
    "\n",
    "conversion_rate_df = df.groupby(['user_segment', 'test group'])['converted'].mean().reset_index()\n",
    "conversion_rate_df.columns = ['user_segment', 'test_group', 'conversion_rate']\n",
    "\n",
    "display(segment_counts_df)\n",
    "display(conversion_rate_df)"
   ]
  },
  {
   "cell_type": "markdown",
   "id": "6969aff9-61d9-4a9e-b4b5-c2baeb9a2f03",
   "metadata": {},
   "source": [
    "# Conversion rate by weekday vs weekend"
   ]
  },
  {
   "cell_type": "code",
   "execution_count": 13,
   "id": "8d33cc4e-75d6-43d2-ad9d-bd310a8d6603",
   "metadata": {},
   "outputs": [
    {
     "data": {
      "text/html": [
       "<div>\n",
       "<style scoped>\n",
       "    .dataframe tbody tr th:only-of-type {\n",
       "        vertical-align: middle;\n",
       "    }\n",
       "\n",
       "    .dataframe tbody tr th {\n",
       "        vertical-align: top;\n",
       "    }\n",
       "\n",
       "    .dataframe thead th {\n",
       "        text-align: right;\n",
       "    }\n",
       "</style>\n",
       "<table border=\"1\" class=\"dataframe\">\n",
       "  <thead>\n",
       "    <tr style=\"text-align: right;\">\n",
       "      <th></th>\n",
       "      <th>day_type</th>\n",
       "      <th>test_group</th>\n",
       "      <th>count</th>\n",
       "    </tr>\n",
       "  </thead>\n",
       "  <tbody>\n",
       "    <tr>\n",
       "      <th>0</th>\n",
       "      <td>weekday</td>\n",
       "      <td>ad</td>\n",
       "      <td>403443</td>\n",
       "    </tr>\n",
       "    <tr>\n",
       "      <th>1</th>\n",
       "      <td>weekday</td>\n",
       "      <td>psa</td>\n",
       "      <td>17607</td>\n",
       "    </tr>\n",
       "    <tr>\n",
       "      <th>2</th>\n",
       "      <td>weekend</td>\n",
       "      <td>ad</td>\n",
       "      <td>161134</td>\n",
       "    </tr>\n",
       "    <tr>\n",
       "      <th>3</th>\n",
       "      <td>weekend</td>\n",
       "      <td>psa</td>\n",
       "      <td>5917</td>\n",
       "    </tr>\n",
       "  </tbody>\n",
       "</table>\n",
       "</div>"
      ],
      "text/plain": [
       "  day_type test_group   count\n",
       "0  weekday         ad  403443\n",
       "1  weekday        psa   17607\n",
       "2  weekend         ad  161134\n",
       "3  weekend        psa    5917"
      ]
     },
     "metadata": {},
     "output_type": "display_data"
    },
    {
     "data": {
      "text/html": [
       "<div>\n",
       "<style scoped>\n",
       "    .dataframe tbody tr th:only-of-type {\n",
       "        vertical-align: middle;\n",
       "    }\n",
       "\n",
       "    .dataframe tbody tr th {\n",
       "        vertical-align: top;\n",
       "    }\n",
       "\n",
       "    .dataframe thead th {\n",
       "        text-align: right;\n",
       "    }\n",
       "</style>\n",
       "<table border=\"1\" class=\"dataframe\">\n",
       "  <thead>\n",
       "    <tr style=\"text-align: right;\">\n",
       "      <th></th>\n",
       "      <th>day_type</th>\n",
       "      <th>test_group</th>\n",
       "      <th>conversion_rate</th>\n",
       "    </tr>\n",
       "  </thead>\n",
       "  <tbody>\n",
       "    <tr>\n",
       "      <th>0</th>\n",
       "      <td>weekday</td>\n",
       "      <td>ad</td>\n",
       "      <td>0.026564</td>\n",
       "    </tr>\n",
       "    <tr>\n",
       "      <th>1</th>\n",
       "      <td>weekday</td>\n",
       "      <td>psa</td>\n",
       "      <td>0.018004</td>\n",
       "    </tr>\n",
       "    <tr>\n",
       "      <th>2</th>\n",
       "      <td>weekend</td>\n",
       "      <td>ad</td>\n",
       "      <td>0.022999</td>\n",
       "    </tr>\n",
       "    <tr>\n",
       "      <th>3</th>\n",
       "      <td>weekend</td>\n",
       "      <td>psa</td>\n",
       "      <td>0.017407</td>\n",
       "    </tr>\n",
       "  </tbody>\n",
       "</table>\n",
       "</div>"
      ],
      "text/plain": [
       "  day_type test_group  conversion_rate\n",
       "0  weekday         ad         0.026564\n",
       "1  weekday        psa         0.018004\n",
       "2  weekend         ad         0.022999\n",
       "3  weekend        psa         0.017407"
      ]
     },
     "metadata": {},
     "output_type": "display_data"
    }
   ],
   "source": [
    "# Add new column: weekend or weekday\n",
    "df['day_type'] = df['most ads day'].apply(lambda x: 'weekend' if x in ['Saturday', 'Sunday'] else 'weekday')\n",
    "\n",
    "# Count rows for each day_type and group\n",
    "daytype_counts_df = df.groupby(['day_type', 'test group'])['converted'].count().reset_index()\n",
    "daytype_counts_df.columns = ['day_type', 'test_group', 'count']\n",
    "\n",
    "# Get conversion rate for each day_type and group\n",
    "daytype_conversion_df = df.groupby(['day_type', 'test group'])['converted'].mean().reset_index()\n",
    "daytype_conversion_df.columns = ['day_type', 'test_group', 'conversion_rate']\n",
    "\n",
    "# Show results\n",
    "display(daytype_counts_df)\n",
    "display(daytype_conversion_df)"
   ]
  },
  {
   "cell_type": "markdown",
   "id": "7384d5cb-1e46-4a08-8b42-7a8a29789bd2",
   "metadata": {},
   "source": [
    "# Conversion rate by time of day"
   ]
  },
  {
   "cell_type": "code",
   "execution_count": 14,
   "id": "a12beed9-c009-4039-9788-8f7150db97f4",
   "metadata": {},
   "outputs": [
    {
     "data": {
      "text/html": [
       "<div>\n",
       "<style scoped>\n",
       "    .dataframe tbody tr th:only-of-type {\n",
       "        vertical-align: middle;\n",
       "    }\n",
       "\n",
       "    .dataframe tbody tr th {\n",
       "        vertical-align: top;\n",
       "    }\n",
       "\n",
       "    .dataframe thead th {\n",
       "        text-align: right;\n",
       "    }\n",
       "</style>\n",
       "<table border=\"1\" class=\"dataframe\">\n",
       "  <thead>\n",
       "    <tr style=\"text-align: right;\">\n",
       "      <th></th>\n",
       "      <th>time_segment</th>\n",
       "      <th>test_group</th>\n",
       "      <th>count</th>\n",
       "    </tr>\n",
       "  </thead>\n",
       "  <tbody>\n",
       "    <tr>\n",
       "      <th>0</th>\n",
       "      <td>afternoon</td>\n",
       "      <td>ad</td>\n",
       "      <td>246925</td>\n",
       "    </tr>\n",
       "    <tr>\n",
       "      <th>1</th>\n",
       "      <td>afternoon</td>\n",
       "      <td>psa</td>\n",
       "      <td>10914</td>\n",
       "    </tr>\n",
       "    <tr>\n",
       "      <th>2</th>\n",
       "      <td>evening</td>\n",
       "      <td>ad</td>\n",
       "      <td>180384</td>\n",
       "    </tr>\n",
       "    <tr>\n",
       "      <th>3</th>\n",
       "      <td>evening</td>\n",
       "      <td>psa</td>\n",
       "      <td>6860</td>\n",
       "    </tr>\n",
       "    <tr>\n",
       "      <th>4</th>\n",
       "      <td>morning</td>\n",
       "      <td>ad</td>\n",
       "      <td>137268</td>\n",
       "    </tr>\n",
       "    <tr>\n",
       "      <th>5</th>\n",
       "      <td>morning</td>\n",
       "      <td>psa</td>\n",
       "      <td>5750</td>\n",
       "    </tr>\n",
       "  </tbody>\n",
       "</table>\n",
       "</div>"
      ],
      "text/plain": [
       "  time_segment test_group   count\n",
       "0    afternoon         ad  246925\n",
       "1    afternoon        psa   10914\n",
       "2      evening         ad  180384\n",
       "3      evening        psa    6860\n",
       "4      morning         ad  137268\n",
       "5      morning        psa    5750"
      ]
     },
     "metadata": {},
     "output_type": "display_data"
    },
    {
     "data": {
      "text/html": [
       "<div>\n",
       "<style scoped>\n",
       "    .dataframe tbody tr th:only-of-type {\n",
       "        vertical-align: middle;\n",
       "    }\n",
       "\n",
       "    .dataframe tbody tr th {\n",
       "        vertical-align: top;\n",
       "    }\n",
       "\n",
       "    .dataframe thead th {\n",
       "        text-align: right;\n",
       "    }\n",
       "</style>\n",
       "<table border=\"1\" class=\"dataframe\">\n",
       "  <thead>\n",
       "    <tr style=\"text-align: right;\">\n",
       "      <th></th>\n",
       "      <th>time_segment</th>\n",
       "      <th>test_group</th>\n",
       "      <th>conversion_rate</th>\n",
       "    </tr>\n",
       "  </thead>\n",
       "  <tbody>\n",
       "    <tr>\n",
       "      <th>0</th>\n",
       "      <td>afternoon</td>\n",
       "      <td>ad</td>\n",
       "      <td>0.027668</td>\n",
       "    </tr>\n",
       "    <tr>\n",
       "      <th>1</th>\n",
       "      <td>afternoon</td>\n",
       "      <td>psa</td>\n",
       "      <td>0.020158</td>\n",
       "    </tr>\n",
       "    <tr>\n",
       "      <th>2</th>\n",
       "      <td>evening</td>\n",
       "      <td>ad</td>\n",
       "      <td>0.025978</td>\n",
       "    </tr>\n",
       "    <tr>\n",
       "      <th>3</th>\n",
       "      <td>evening</td>\n",
       "      <td>psa</td>\n",
       "      <td>0.018659</td>\n",
       "    </tr>\n",
       "    <tr>\n",
       "      <th>4</th>\n",
       "      <td>morning</td>\n",
       "      <td>ad</td>\n",
       "      <td>0.021163</td>\n",
       "    </tr>\n",
       "    <tr>\n",
       "      <th>5</th>\n",
       "      <td>morning</td>\n",
       "      <td>psa</td>\n",
       "      <td>0.012522</td>\n",
       "    </tr>\n",
       "  </tbody>\n",
       "</table>\n",
       "</div>"
      ],
      "text/plain": [
       "  time_segment test_group  conversion_rate\n",
       "0    afternoon         ad         0.027668\n",
       "1    afternoon        psa         0.020158\n",
       "2      evening         ad         0.025978\n",
       "3      evening        psa         0.018659\n",
       "4      morning         ad         0.021163\n",
       "5      morning        psa         0.012522"
      ]
     },
     "metadata": {},
     "output_type": "display_data"
    }
   ],
   "source": [
    "# Define hour category\n",
    "def make_classify_hour(x):\n",
    "    if 5 <= x < 12:\n",
    "        return 'morning'\n",
    "    elif 12 <= x < 18:\n",
    "        return 'afternoon'\n",
    "    else:\n",
    "        return 'evening'\n",
    "\n",
    "# Add new column: time segment\n",
    "df['time_segment'] = df['most ads hour'].apply(make_classify_hour)\n",
    "\n",
    "# Count rows for each time_segment and group\n",
    "timesegment_counts_df = df.groupby(['time_segment', 'test group'])['converted'].count().reset_index()\n",
    "timesegment_counts_df.columns = ['time_segment', 'test_group', 'count']\n",
    "\n",
    "# Get conversion rate for each time_segment and group\n",
    "timesegment_conversion_df = df.groupby(['time_segment', 'test group'])['converted'].mean().reset_index()\n",
    "timesegment_conversion_df.columns = ['time_segment', 'test_group', 'conversion_rate']\n",
    "\n",
    "# Show results\n",
    "display(timesegment_counts_df)\n",
    "display(timesegment_conversion_df)"
   ]
  },
  {
   "cell_type": "markdown",
   "id": "21b35d3d-c465-4057-9c3b-a84b59146fc6",
   "metadata": {},
   "source": [
    "<div style=\"background-color:#f0f8ff; padding:10px; border:1px solid #ccc; border-radius:5px;\">\n",
    "\n",
    "# Welch's t-test\n",
    "\n",
    "We compare the ad and PSA groups using Welch's t-test to see if there is a significant difference in conversion rates.  \n",
    "If the p-value is below 0.05, we consider the difference statistically significant.  \n",
    "We also calculate Cohen's d to measure the effect size between the two groups.  \n",
    "This tells us how big the difference is, not just whether it exists.\n",
    "\n",
    "</div>"
   ]
  },
  {
   "cell_type": "code",
   "execution_count": 15,
   "id": "0cc24584-d209-4ae8-8052-3bd2b94c0def",
   "metadata": {},
   "outputs": [
    {
     "name": "stdout",
     "output_type": "stream",
     "text": [
      "Welch's t-test: t = 8.6572, p = 0.0000\n",
      "There is a statistically significant difference,suggesting a possible effect of the advertisement.\n"
     ]
    }
   ],
   "source": [
    "from scipy.stats import ttest_ind\n",
    "\n",
    "group_ad = df[df['test group'] == 'ad']['converted'].astype(float)\n",
    "group_psa = df[df['test group'] == 'psa']['converted'].astype(float)\n",
    "\n",
    "# Welch's t-test（equal_var=False）\n",
    "t_stat, p_value = ttest_ind(group_ad, group_psa, equal_var=False)\n",
    "print(f\"Welch's t-test: t = {t_stat:.4f}, p = {p_value:.4f}\")\n",
    "\n",
    "# α = 0.05\n",
    "if p_value < 0.05:\n",
    "    print(\"There is a statistically significant difference,suggesting a possible effect of the advertisement.\")\n",
    "else:\n",
    "    print(\"The results do not show a significant difference, indicating the advertisement may not have a clear effect.\")\n"
   ]
  },
  {
   "cell_type": "code",
   "execution_count": 16,
   "id": "3ef9b747-4cfc-4bcc-ac4c-35e685bae9b4",
   "metadata": {},
   "outputs": [
    {
     "name": "stdout",
     "output_type": "stream",
     "text": [
      "Cohen's d: 0.0528\n"
     ]
    }
   ],
   "source": [
    "import numpy as np\n",
    "\n",
    "group_ad = df[df['test group'] == 'ad']['converted'].astype(float)\n",
    "group_psa = df[df['test group'] == 'psa']['converted'].astype(float)\n",
    "\n",
    "mean_diff = group_ad.mean() - group_psa.mean()\n",
    "std1 = group_ad.std()\n",
    "std2 = group_psa.std()\n",
    "\n",
    "pooled_std = np.sqrt((std1**2 + std2**2) / 2)\n",
    "\n",
    "# Cohen's d\n",
    "cohens_d = mean_diff / pooled_std\n",
    "print(f\"Cohen's d: {cohens_d:.4f}\")"
   ]
  },
  {
   "cell_type": "markdown",
   "id": "39fcf8eb-e357-4f09-a9aa-19cb45a502d5",
   "metadata": {},
   "source": [
    "<div style=\"background-color:#f0f8ff; padding:10px; border:1px solid #ccc; border-radius:5px;\">\n",
    "\n",
    "# Bayes\n",
    "\n",
    "First, we count how many users made a purchase and how many did not, for both the ad and PSA groups.  \n",
    "We use a Beta(1, 1) distribution as the prior, which is a uniform distribution with no bias.  \n",
    "Then, we update the beta distribution for each group using the observed data.  \n",
    "Using Monte Carlo simulation, we draw many samples to estimate the posterior distributions.  \n",
    "Finally, we compare the samples and calculate the probability that the ad group performs better than the PSA group.\n",
    "\n",
    "</div>"
   ]
  },
  {
   "cell_type": "code",
   "execution_count": 17,
   "id": "367a3d37-2a19-4471-9ced-1e0a67404502",
   "metadata": {},
   "outputs": [
    {
     "name": "stdout",
     "output_type": "stream",
     "text": [
      "ad_samples\n",
      "[0.02556969 0.02536439 0.02561766 ... 0.02575342 0.0254457  0.02555029]\n",
      "psa_samples\n",
      "[0.0192191  0.01691424 0.01780738 ... 0.01953193 0.01827714 0.01832025]\n"
     ]
    }
   ],
   "source": [
    "import numpy as np\n",
    "import matplotlib.pyplot as plt\n",
    "from scipy.stats import beta\n",
    "\n",
    "# Count conversions and total trials for each group\n",
    "ad_successes = df[(df['test group'] == 'ad')]['converted'].sum()\n",
    "ad_trials = df[df['test group'] == 'ad'].shape[0]\n",
    "\n",
    "psa_successes = df[(df['test group'] == 'psa')]['converted'].sum()\n",
    "psa_trials = df[df['test group'] == 'psa'].shape[0]\n",
    "\n",
    "# Set beta distribution parameters (with flat prior)\n",
    "ad_alpha, ad_beta = ad_successes + 1, ad_trials - ad_successes + 1\n",
    "psa_alpha, psa_beta = psa_successes + 1, psa_trials - psa_successes + 1\n",
    "\n",
    "# Draw samples from the posterior (Monte Carlo)\n",
    "samples = 100_000\n",
    "ad_samples = np.random.beta(ad_alpha, ad_beta, samples)\n",
    "psa_samples = np.random.beta(psa_alpha, psa_beta, samples)\n",
    "\n",
    "# Print sample results\n",
    "print('ad_samples')\n",
    "print(ad_samples)\n",
    "print('psa_samples')\n",
    "print(psa_samples)\n"
   ]
  },
  {
   "cell_type": "code",
   "execution_count": 18,
   "id": "0bf86969-3c74-48a3-8f8d-f64ad2deb3be",
   "metadata": {},
   "outputs": [
    {
     "name": "stdout",
     "output_type": "stream",
     "text": [
      "The chance that the Ad group has a higher CVR than the PSA group is 1.0000.\n"
     ]
    }
   ],
   "source": [
    "# The probability that the Ad group has a higher CVR\n",
    "prob_ad_better = (ad_samples > psa_samples).mean()\n",
    "\n",
    "print(f\"The chance that the Ad group has a higher CVR than the PSA group is {prob_ad_better:.4f}.\")\n"
   ]
  },
  {
   "cell_type": "code",
   "execution_count": 19,
   "id": "2f3bc2dd-5536-4d15-ba75-d7abe836bbc0",
   "metadata": {},
   "outputs": [
    {
     "data": {
      "image/png": "[encoded data removed]",
      "text/plain": [
       "<Figure size 640x480 with 1 Axes>"
      ]
     },
     "metadata": {},
     "output_type": "display_data"
    }
   ],
   "source": [
    "x = np.linspace(0, 0.05, 1000)\n",
    "plt.plot(x, beta.pdf(x, ad_alpha, ad_beta), label='Ad Group')\n",
    "plt.plot(x, beta.pdf(x, psa_alpha, psa_beta), label='PSA Group')\n",
    "plt.xlabel('Conversion Rate')\n",
    "plt.ylabel('Density')\n",
    "plt.title('Posterior Distributions of Conversion Rates')\n",
    "plt.legend()\n",
    "plt.show()\n"
   ]
  },
  {
   "cell_type": "markdown",
   "id": "b0c7615f-0dce-4389-8a2f-86282dab0b94",
   "metadata": {},
   "source": [
    "<div style=\"background-color:#f0f8ff; padding:10px; border:1px solid #ccc; border-radius:5px;\">\n",
    "\n",
    "# Conclusion\n",
    "\n",
    "Both Welch’s t-test and Bayesian analysis showed that the Ad group performed better than the PSA group.  \n",
    "From the EDA, we found that this effect was stronger among users with higher usage frequency.  \n",
    "\n",
    "While the Ad group is almost certainly better, it is recommended to focus on high-frequency users first when switching from PSA to Ad.  \n",
    "\n",
    "</div>"
   ]
  },
  {
   "cell_type": "code",
   "execution_count": null,
   "id": "4255fc8d-224b-4a1f-a2dc-03042095a18f",
   "metadata": {},
   "outputs": [],
   "source": []
  }
 ],
 "metadata": {
  "kernelspec": {
   "display_name": "Python 3 (ipykernel)",
   "language": "python",
   "name": "python3"
  },
  "language_info": {
   "codemirror_mode": {
    "name": "ipython",
    "version": 3
   },
   "file_extension": ".py",
   "mimetype": "text/x-python",
   "name": "python",
   "nbconvert_exporter": "python",
   "pygments_lexer": "ipython3",
   "version": "3.12.11"
  }
 },
 "nbformat": 4,
 "nbformat_minor": 5
}
